{
 "cells": [
  {
   "cell_type": "code",
   "execution_count": 89,
   "metadata": {},
   "outputs": [],
   "source": [
    "import psl\n",
    "from importlib import reload\n",
    "reload(psl)\n",
    "from psl import *"
   ]
  },
  {
   "cell_type": "code",
   "execution_count": 90,
   "metadata": {
    "collapsed": true
   },
   "outputs": [],
   "source": [
    "psl_file_with_header = '/projects/bullfrog_assembly/genome/ARCS/annotation/gmap/second-pass/experiments/gmap_divide_and_conquer/divided_transcripts/Rc-02r170621s1564263.fa.psl'"
   ]
  },
  {
   "cell_type": "code",
   "execution_count": 91,
   "metadata": {},
   "outputs": [
    {
     "name": "stdout",
     "output_type": "stream",
     "text": [
      "1022\t0\t0\t0\t0\t0\t1\t87\t+\tmaker-Rc-01r160223s0205294-snap-gene-0.0-mRNA-1\t1022\t0\t1022\tRc-02r170621s1564263\t9682\t76\t1185\t2\t136,886,\t0,136,\t76,299,\n"
     ]
    }
   ],
   "source": [
    "for i in Psl.read(psl_file_with_header):\n",
    "    print(i)"
   ]
  },
  {
   "cell_type": "code",
   "execution_count": 92,
   "metadata": {},
   "outputs": [
    {
     "name": "stdout",
     "output_type": "stream",
     "text": [
      "1022\t0\t0\t0\t0\t0\t1\t87\t+\tmaker-Rc-01r160223s0205294-snap-gene-0.0-mRNA-1\t1022\t0\t1022\tRc-02r170621s1564263\t9682\t76\t1185\t2\t136,886,\t0,136,\t76,299,\n",
      "\n"
     ]
    }
   ],
   "source": [
    "with open(psl_file_with_header, 'r') as f:\n",
    "    for i in range(5):\n",
    "        f.readline()\n",
    "    for line in f:\n",
    "        cols = line.strip().split('\\t')\n",
    "        blockSizes = cols[18]\n",
    "        print(line)"
   ]
  },
  {
   "cell_type": "code",
   "execution_count": null,
   "metadata": {
    "collapsed": true
   },
   "outputs": [],
   "source": []
  }
 ],
 "metadata": {
  "kernelspec": {
   "display_name": "Python 3",
   "language": "python",
   "name": "python3"
  },
  "language_info": {
   "codemirror_mode": {
    "name": "ipython",
    "version": 3
   },
   "file_extension": ".py",
   "mimetype": "text/x-python",
   "name": "python",
   "nbconvert_exporter": "python",
   "pygments_lexer": "ipython3",
   "version": "3.6.2"
  }
 },
 "nbformat": 4,
 "nbformat_minor": 2
}
